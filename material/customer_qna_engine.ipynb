{
  "cells": [
    {
      "cell_type": "code",
      "execution_count": null,
      "metadata": {
        "colab": {
          "base_uri": "https://localhost:8080/"
        },
        "id": "O00U1MrLtfIT",
        "outputId": "f359b274-4e74-402f-eaf5-469017caa1b8"
      },
      "outputs": [
        {
          "name": "stdout",
          "output_type": "stream",
          "text": [
            "Requirement already satisfied: tiktoken in /usr/local/lib/python3.10/dist-packages (0.7.0)\n",
            "Requirement already satisfied: regex>=2022.1.18 in /usr/local/lib/python3.10/dist-packages (from tiktoken) (2024.5.15)\n",
            "Requirement already satisfied: requests>=2.26.0 in /usr/local/lib/python3.10/dist-packages (from tiktoken) (2.31.0)\n",
            "Requirement already satisfied: charset-normalizer<4,>=2 in /usr/local/lib/python3.10/dist-packages (from requests>=2.26.0->tiktoken) (3.3.2)\n",
            "Requirement already satisfied: idna<4,>=2.5 in /usr/local/lib/python3.10/dist-packages (from requests>=2.26.0->tiktoken) (3.7)\n",
            "Requirement already satisfied: urllib3<3,>=1.21.1 in /usr/local/lib/python3.10/dist-packages (from requests>=2.26.0->tiktoken) (2.0.7)\n",
            "Requirement already satisfied: certifi>=2017.4.17 in /usr/local/lib/python3.10/dist-packages (from requests>=2.26.0->tiktoken) (2024.6.2)\n",
            "Requirement already satisfied: openai in /usr/local/lib/python3.10/dist-packages (1.35.7)\n",
            "Requirement already satisfied: anyio<5,>=3.5.0 in /usr/local/lib/python3.10/dist-packages (from openai) (3.7.1)\n",
            "Requirement already satisfied: distro<2,>=1.7.0 in /usr/lib/python3/dist-packages (from openai) (1.7.0)\n",
            "Requirement already satisfied: httpx<1,>=0.23.0 in /usr/local/lib/python3.10/dist-packages (from openai) (0.27.0)\n",
            "Requirement already satisfied: pydantic<3,>=1.9.0 in /usr/local/lib/python3.10/dist-packages (from openai) (2.7.4)\n",
            "Requirement already satisfied: sniffio in /usr/local/lib/python3.10/dist-packages (from openai) (1.3.1)\n",
            "Requirement already satisfied: tqdm>4 in /usr/local/lib/python3.10/dist-packages (from openai) (4.66.4)\n",
            "Requirement already satisfied: typing-extensions<5,>=4.7 in /usr/local/lib/python3.10/dist-packages (from openai) (4.12.2)\n",
            "Requirement already satisfied: idna>=2.8 in /usr/local/lib/python3.10/dist-packages (from anyio<5,>=3.5.0->openai) (3.7)\n",
            "Requirement already satisfied: exceptiongroup in /usr/local/lib/python3.10/dist-packages (from anyio<5,>=3.5.0->openai) (1.2.1)\n",
            "Requirement already satisfied: certifi in /usr/local/lib/python3.10/dist-packages (from httpx<1,>=0.23.0->openai) (2024.6.2)\n",
            "Requirement already satisfied: httpcore==1.* in /usr/local/lib/python3.10/dist-packages (from httpx<1,>=0.23.0->openai) (1.0.5)\n",
            "Requirement already satisfied: h11<0.15,>=0.13 in /usr/local/lib/python3.10/dist-packages (from httpcore==1.*->httpx<1,>=0.23.0->openai) (0.14.0)\n",
            "Requirement already satisfied: annotated-types>=0.4.0 in /usr/local/lib/python3.10/dist-packages (from pydantic<3,>=1.9.0->openai) (0.7.0)\n",
            "Requirement already satisfied: pydantic-core==2.18.4 in /usr/local/lib/python3.10/dist-packages (from pydantic<3,>=1.9.0->openai) (2.18.4)\n",
            "Requirement already satisfied: textract in /usr/local/lib/python3.10/dist-packages (1.6.5)\n",
            "Requirement already satisfied: argcomplete~=1.10.0 in /usr/local/lib/python3.10/dist-packages (from textract) (1.10.3)\n",
            "Requirement already satisfied: beautifulsoup4~=4.8.0 in /usr/local/lib/python3.10/dist-packages (from textract) (4.8.2)\n",
            "Requirement already satisfied: chardet==3.* in /usr/local/lib/python3.10/dist-packages (from textract) (3.0.4)\n",
            "Requirement already satisfied: docx2txt~=0.8 in /usr/local/lib/python3.10/dist-packages (from textract) (0.8)\n",
            "Requirement already satisfied: extract-msg<=0.29.* in /usr/local/lib/python3.10/dist-packages (from textract) (0.28.7)\n",
            "Requirement already satisfied: pdfminer.six==20191110 in /usr/local/lib/python3.10/dist-packages (from textract) (20191110)\n",
            "Requirement already satisfied: python-pptx~=0.6.18 in /usr/local/lib/python3.10/dist-packages (from textract) (0.6.23)\n",
            "Requirement already satisfied: six~=1.12.0 in /usr/local/lib/python3.10/dist-packages (from textract) (1.12.0)\n",
            "Requirement already satisfied: SpeechRecognition~=3.8.1 in /usr/local/lib/python3.10/dist-packages (from textract) (3.8.1)\n",
            "Requirement already satisfied: xlrd~=1.2.0 in /usr/local/lib/python3.10/dist-packages (from textract) (1.2.0)\n",
            "Requirement already satisfied: pycryptodome in /usr/local/lib/python3.10/dist-packages (from pdfminer.six==20191110->textract) (3.20.0)\n",
            "Requirement already satisfied: sortedcontainers in /usr/local/lib/python3.10/dist-packages (from pdfminer.six==20191110->textract) (2.4.0)\n",
            "Requirement already satisfied: soupsieve>=1.2 in /usr/local/lib/python3.10/dist-packages (from beautifulsoup4~=4.8.0->textract) (2.5)\n",
            "Requirement already satisfied: imapclient==2.1.0 in /usr/local/lib/python3.10/dist-packages (from extract-msg<=0.29.*->textract) (2.1.0)\n",
            "Requirement already satisfied: olefile>=0.46 in /usr/local/lib/python3.10/dist-packages (from extract-msg<=0.29.*->textract) (0.47)\n",
            "Requirement already satisfied: tzlocal>=2.1 in /usr/local/lib/python3.10/dist-packages (from extract-msg<=0.29.*->textract) (5.2)\n",
            "Requirement already satisfied: compressed-rtf>=1.0.6 in /usr/local/lib/python3.10/dist-packages (from extract-msg<=0.29.*->textract) (1.0.6)\n",
            "Requirement already satisfied: ebcdic>=1.1.1 in /usr/local/lib/python3.10/dist-packages (from extract-msg<=0.29.*->textract) (1.1.1)\n",
            "Requirement already satisfied: lxml>=3.1.0 in /usr/local/lib/python3.10/dist-packages (from python-pptx~=0.6.18->textract) (4.9.4)\n",
            "Requirement already satisfied: Pillow>=3.3.2 in /usr/local/lib/python3.10/dist-packages (from python-pptx~=0.6.18->textract) (9.4.0)\n",
            "Requirement already satisfied: XlsxWriter>=0.5.7 in /usr/local/lib/python3.10/dist-packages (from python-pptx~=0.6.18->textract) (3.2.0)\n",
            "Requirement already satisfied: numpy in /usr/local/lib/python3.10/dist-packages (1.25.2)\n",
            "Requirement already satisfied: pandas in /usr/local/lib/python3.10/dist-packages (2.0.3)\n",
            "Requirement already satisfied: python-dateutil>=2.8.2 in /usr/local/lib/python3.10/dist-packages (from pandas) (2.8.2)\n",
            "Requirement already satisfied: pytz>=2020.1 in /usr/local/lib/python3.10/dist-packages (from pandas) (2023.4)\n",
            "Requirement already satisfied: tzdata>=2022.1 in /usr/local/lib/python3.10/dist-packages (from pandas) (2024.1)\n",
            "Requirement already satisfied: numpy>=1.21.0 in /usr/local/lib/python3.10/dist-packages (from pandas) (1.25.2)\n",
            "Requirement already satisfied: six>=1.5 in /usr/local/lib/python3.10/dist-packages (from python-dateutil>=2.8.2->pandas) (1.12.0)\n",
            "Requirement already satisfied: matplotlib in /usr/local/lib/python3.10/dist-packages (3.7.1)\n",
            "Requirement already satisfied: contourpy>=1.0.1 in /usr/local/lib/python3.10/dist-packages (from matplotlib) (1.2.1)\n",
            "Requirement already satisfied: cycler>=0.10 in /usr/local/lib/python3.10/dist-packages (from matplotlib) (0.12.1)\n",
            "Requirement already satisfied: fonttools>=4.22.0 in /usr/local/lib/python3.10/dist-packages (from matplotlib) (4.53.0)\n",
            "Requirement already satisfied: kiwisolver>=1.0.1 in /usr/local/lib/python3.10/dist-packages (from matplotlib) (1.4.5)\n",
            "Requirement already satisfied: numpy>=1.20 in /usr/local/lib/python3.10/dist-packages (from matplotlib) (1.25.2)\n",
            "Requirement already satisfied: packaging>=20.0 in /usr/local/lib/python3.10/dist-packages (from matplotlib) (24.1)\n",
            "Requirement already satisfied: pillow>=6.2.0 in /usr/local/lib/python3.10/dist-packages (from matplotlib) (9.4.0)\n",
            "Requirement already satisfied: pyparsing>=2.3.1 in /usr/local/lib/python3.10/dist-packages (from matplotlib) (3.1.2)\n",
            "Requirement already satisfied: python-dateutil>=2.7 in /usr/local/lib/python3.10/dist-packages (from matplotlib) (2.8.2)\n",
            "Requirement already satisfied: six>=1.5 in /usr/local/lib/python3.10/dist-packages (from python-dateutil>=2.7->matplotlib) (1.12.0)\n",
            "Requirement already satisfied: plotly in /usr/local/lib/python3.10/dist-packages (5.15.0)\n",
            "Requirement already satisfied: tenacity>=6.2.0 in /usr/local/lib/python3.10/dist-packages (from plotly) (8.4.1)\n",
            "Requirement already satisfied: packaging in /usr/local/lib/python3.10/dist-packages (from plotly) (24.1)\n",
            "Requirement already satisfied: scipy in /usr/local/lib/python3.10/dist-packages (1.11.4)\n",
            "Requirement already satisfied: numpy<1.28.0,>=1.21.6 in /usr/local/lib/python3.10/dist-packages (from scipy) (1.25.2)\n",
            "Requirement already satisfied: scikit-learn in /usr/local/lib/python3.10/dist-packages (1.2.2)\n",
            "Requirement already satisfied: numpy>=1.17.3 in /usr/local/lib/python3.10/dist-packages (from scikit-learn) (1.25.2)\n",
            "Requirement already satisfied: scipy>=1.3.2 in /usr/local/lib/python3.10/dist-packages (from scikit-learn) (1.11.4)\n",
            "Requirement already satisfied: joblib>=1.1.1 in /usr/local/lib/python3.10/dist-packages (from scikit-learn) (1.4.2)\n",
            "Requirement already satisfied: threadpoolctl>=2.0.0 in /usr/local/lib/python3.10/dist-packages (from scikit-learn) (3.5.0)\n"
          ]
        }
      ],
      "source": [
        "%pip install tiktoken\n",
        "%pip install openai\n",
        "%pip install textract\n",
        "%pip install numpy\n",
        "%pip install pandas\n",
        "%pip install matplotlib\n",
        "%pip install plotly\n",
        "%pip install scipy\n",
        "%pip install scikit-learn"
      ]
    },
    {
      "cell_type": "markdown",
      "metadata": {
        "id": "L_1uT8l6tfIV"
      },
      "source": [
        "# 라이브러리 임포트"
      ]
    },
    {
      "cell_type": "code",
      "execution_count": null,
      "metadata": {
        "id": "1EramOg7tfIW"
      },
      "outputs": [],
      "source": [
        "import os\n",
        "import numpy as np\n",
        "import pandas as pd\n",
        "from typing import Iterator\n",
        "import tiktoken\n",
        "import textract"
      ]
    },
    {
      "cell_type": "markdown",
      "metadata": {
        "id": "tEINmPi5tfIW"
      },
      "source": [
        "# 논문 파일 리스트 구하기"
      ]
    },
    {
      "cell_type": "code",
      "execution_count": null,
      "metadata": {
        "colab": {
          "base_uri": "https://localhost:8080/"
        },
        "id": "JeleqHcPtfIW",
        "outputId": "13dba311-2f44-47eb-be18-489dee69cb73"
      },
      "outputs": [
        {
          "name": "stdout",
          "output_type": "stream",
          "text": [
            "--2024-06-28 21:20:54--  https://raw.githubusercontent.com/dhrim/2024_ai_workshop/main/material/data/paper.zip\n",
            "Resolving raw.githubusercontent.com (raw.githubusercontent.com)... 185.199.108.133, 185.199.109.133, 185.199.110.133, ...\n",
            "Connecting to raw.githubusercontent.com (raw.githubusercontent.com)|185.199.108.133|:443... connected.\n",
            "HTTP request sent, awaiting response... 200 OK\n",
            "Length: 9912147 (9.5M) [application/zip]\n",
            "Saving to: ‘paper.zip’\n",
            "\n",
            "\rpaper.zip             0%[                    ]       0  --.-KB/s               \rpaper.zip           100%[===================>]   9.45M  --.-KB/s    in 0.05s   \n",
            "\n",
            "2024-06-28 21:20:55 (175 MB/s) - ‘paper.zip’ saved [9912147/9912147]\n",
            "\n"
          ]
        }
      ],
      "source": [
        "!wget https://raw.githubusercontent.com/dhrim/2024_ai_workshop/main/material/data/paper.zip -O paper.zip\n"
      ]
    },
    {
      "cell_type": "code",
      "execution_count": null,
      "metadata": {
        "colab": {
          "base_uri": "https://localhost:8080/"
        },
        "id": "ZNiLZV_ftfIX",
        "outputId": "1924392d-0138-4f6c-a9dc-b8d2f429850c"
      },
      "outputs": [
        {
          "name": "stdout",
          "output_type": "stream",
          "text": [
            "Archive:  paper.zip\n",
            "   creating: paper/\n",
            "  inflating: paper/jkma-2023-66-3-200.pdf  \n",
            "  inflating: paper/jkma-2023-66-1-50.pdf  \n",
            "  inflating: paper/jkma-2023-66-3-160.pdf  \n",
            "  inflating: paper/jkma-2023-66-3-166.pdf  \n",
            "  inflating: paper/jkma-2023-66-3-173.pdf  \n",
            "  inflating: paper/jkma-2023-66-1-41.pdf  \n",
            "  inflating: paper/jkma-2023-66-2-105.pdf  \n",
            "  inflating: paper/jkma-2023-66-1-31.pdf  \n",
            "  inflating: paper/jkma-2023-66-1-19.pdf  \n",
            "  inflating: paper/jkma-2023-66-2-112.pdf  \n",
            "  inflating: paper/jkma-2023-66-2-116.pdf  \n",
            "  inflating: paper/jkma-2023-66-2-132.pdf  \n",
            "  inflating: paper/jkma-2023-66-1-11.pdf  \n",
            "  inflating: paper/jkma-2023-66-2-92.pdf  \n",
            "  inflating: paper/jkma-2023-66-2-123.pdf  \n",
            "  inflating: paper/jkma-2023-66-3-209.pdf  \n",
            "  inflating: paper/jkma-2023-66-3-180.pdf  \n",
            "  inflating: paper/jkma-2023-66-3-191.pdf  \n",
            "  inflating: paper/jkma-2023-66-2-143.pdf  \n",
            "  inflating: paper/jkma-2023-66-1-60.pdf  \n"
          ]
        }
      ],
      "source": [
        "!rm -rf paper\n",
        "!unzip paper.zip"
      ]
    },
    {
      "cell_type": "code",
      "execution_count": null,
      "metadata": {
        "colab": {
          "base_uri": "https://localhost:8080/"
        },
        "id": "4HdqkcavtfIX",
        "outputId": "c3999bdd-f3e6-4307-94a6-4fe5e4a2bfe8"
      },
      "outputs": [
        {
          "name": "stdout",
          "output_type": "stream",
          "text": [
            "20\n",
            "['jkma-2023-66-1-41.pdf', 'jkma-2023-66-2-112.pdf', 'jkma-2023-66-1-31.pdf']\n"
          ]
        }
      ],
      "source": [
        "import os\n",
        "\n",
        "data_path = \"paper\"\n",
        "pdf_files = [x for x in os.listdir(data_path)]\n",
        "\n",
        "print(len(pdf_files))\n",
        "print(pdf_files[:3])"
      ]
    },
    {
      "cell_type": "markdown",
      "metadata": {
        "id": "OryVQESFtfIY"
      },
      "source": [
        "# 파일을 조각(chunk)로 쪼개고 임베딩해 두기"
      ]
    },
    {
      "cell_type": "code",
      "execution_count": null,
      "metadata": {
        "id": "22Ak9vxGtfIY"
      },
      "outputs": [],
      "source": [
        "from openai import OpenAI\n",
        "\n",
        "client = OpenAI(api_key=\"\")"
      ]
    },
    {
      "cell_type": "code",
      "execution_count": null,
      "metadata": {
        "id": "8tjLbFf7tfIZ"
      },
      "outputs": [],
      "source": [
        "import tiktoken\n",
        "\n",
        "TEXT_EMBEDDING_CHUNK_SIZE = 2000\n",
        "tokenizer = tiktoken.get_encoding(\"cl100k_base\")\n",
        "\n",
        "embedding_storage = []\n",
        "\n",
        "# 긴 문자열을 최대 길이 chunk_size의 토큰들로 자르고, 토큰을 반환한다.\n",
        "def chunks(text, chunk_size=TEXT_EMBEDDING_CHUNK_SIZE):\n",
        "    \"\"\"Yield successive chunk_size chunks from text.\"\"\"\n",
        "    tokens = tokenizer.encode(text)\n",
        "    i = 0\n",
        "    while i < len(tokens):\n",
        "        # 토큰 길이의 0.5 ~ 1.5 사이에서 문장의 끝을 찾는다.\n",
        "        j = min(i + int(1.5 * chunk_size), len(tokens))\n",
        "        while j > i + int(0.5 * chunk_size):\n",
        "            # 디코딩 해서 마침표 혹은 줄 바꿈인지 확인한다.\n",
        "            chunk = tokenizer.decode(tokens[i:j])\n",
        "            if chunk.endswith(\".\") or chunk.endswith(\"\\n\"):\n",
        "                break\n",
        "            j -= 1\n",
        "        # 문장 끝을 못찾으면 chunk_size로 한다.\n",
        "        if j == i + int(0.5 * chunk_size):\n",
        "            j = min(i + chunk_size, len(tokens))\n",
        "        yield tokens[i:j]\n",
        "        i = j\n",
        "\n",
        "def get_embeddings(texts):\n",
        "    response = client.embeddings.create(input=texts, model=\"text-embedding-3-small\")\n",
        "    return [data.embedding for data in response.data]\n",
        "\n",
        "def create_embeddings_for_text(text):\n",
        "    # 최대길이 TEXT_EMBEDDING_CHUNK_SIZE의 토큰 리스트로 변환. 쪼개진 개별을 chunk라 한다.\n",
        "    token_chunks = list(chunks(text))\n",
        "    # 각 토큰 리스트를 text 리스트로 변환\n",
        "    text_chunks = [tokenizer.decode(chunk) for chunk in token_chunks]\n",
        "\n",
        "    # 전체 chunk들의 임베딩을 구하고\n",
        "    embedding_chunks = get_embeddings(text_chunks)\n",
        "    return text_chunks, embedding_chunks\n",
        "\n",
        "\n",
        "def handle_file_string(filename, file_content_string):\n",
        "\n",
        "    # 파일 내용에서 라인 변경, 더블 스페이스, 세미 콜론을 삭제\n",
        "    clean_file_content_string = \" \".join(file_content_string.replace(\"\\n\", \"; \").replace(\";\", \" \").split())\n",
        "\n",
        "    try:\n",
        "        text_chunks, embedding_chunks = create_embeddings_for_text(clean_file_content_string)\n",
        "        print(f\"[INFO] Embedded into {len(text_chunks)} chunks\")\n",
        "    except Exception as e:\n",
        "        print(\"[handle_file_string] Error creating embedding: {}\".format(e))\n",
        "\n",
        "    for i, (text_chunk, embedding_chunk) in enumerate(zip(text_chunks, embedding_chunks)):\n",
        "        embedding_storage.append({\"embedding\":embedding_chunk, \"filename\": filename, \"chunk_index\":i, \"text\":text_chunk })\n"
      ]
    },
    {
      "cell_type": "code",
      "execution_count": null,
      "metadata": {
        "colab": {
          "base_uri": "https://localhost:8080/"
        },
        "id": "e-oAi9CjtfIZ",
        "outputId": "7ba35f9b-18c5-4bf8-9d96-8883f9eea97a"
      },
      "outputs": [
        {
          "name": "stdout",
          "output_type": "stream",
          "text": [
            "[INFO] 0/20. processing paper : paper/jkma-2023-66-1-41.pdf\n",
            "\n",
            "CONTINUING EDUCATION COLUMN \n",
            "J Korean Med Assoc 2023 January; 66(1):41-47\n",
            "\n",
            "pISSN 1975-8456 / eISSN 2093-5951\n",
            "\n",
            "https://doi.org/10.5124/jkma.2023.66.1.41\n",
            "\n",
            "약물에 의한 피부유해반응\n",
            "약물에 의한 피부유해반응\n",
            "\n",
            "이 은 혜·장 용 현\n",
            "경북대학교 \n",
            "\n",
            "[INFO] Embedded into 5 chunks\n",
            "\n",
            "============================================================\n",
            "[INFO] 1/20. processing paper : paper/jkma-2023-66-2-112.pdf\n",
            "\n",
            "FOCUSED ISSUE OF THIS MONTH \n",
            "J Korean Med Assoc 2023 February; 66(2):112-115\n",
            "\n",
            "pISSN 1975-8456 / eISSN 2093-5951\n",
            "\n",
            "https://doi.org/10.5124/jkma.2023.66.2.112\n",
            "\n",
            "면역항암치료의 부작용 관리: 간과 위장관계를  \n",
            "면역항암치료의 부작용 관리: \n",
            "\n",
            "[INFO] Embedded into 3 chunks\n",
            "\n",
            "============================================================\n",
            "[INFO] 2/20. processing paper : paper/jkma-2023-66-1-31.pdf\n",
            "\n",
            "\b 특집3\n",
            "\n",
            "FOCUSED ISSUE OF THIS MONTH \n",
            "J Korean Med Assoc 2023 January; 66(1):31-40\n",
            "\n",
            "pISSN 1975-8456 / eISSN 2093-5951\n",
            "\n",
            "https://doi.org/10.5124/jkma.2023.66.1.31\n",
            "\n",
            "후두신경통의 진단과 치료: 큰뒤통수신경 포착증후\n",
            "후두신경통의 진단과 치료\n",
            "\n",
            "[INFO] Embedded into 7 chunks\n",
            "\n",
            "============================================================\n",
            "[INFO] 3/20. processing paper : paper/jkma-2023-66-3-173.pdf\n",
            "\n",
            "\b 특집3\n",
            "\n",
            "FOCUSED ISSUE OF THIS MONTH \n",
            "J Korean Med Assoc 2023 March; 66(3):173-179\n",
            "\n",
            "pISSN 1975-8456 / eISSN 2093-5951\n",
            "\n",
            "https://doi.org/10.5124/jkma.2023.66.3.173\n",
            "\n",
            "비소세포폐암에서 완전절제술 후 보조항암요법\n",
            "비소세포폐암에서 완전절제술 \n",
            "\n",
            "[INFO] Embedded into 5 chunks\n",
            "\n",
            "============================================================\n",
            "[INFO] 4/20. processing paper : paper/jkma-2023-66-2-105.pdf\n",
            "\n",
            "FOCUSED ISSUE OF THIS MONTH \n",
            "J Korean Med Assoc 2023 February; 66(2):105-111\n",
            "\n",
            "pISSN 1975-8456 / eISSN 2093-5951\n",
            "\n",
            "https://doi.org/10.5124/jkma.2023.66.2.105\n",
            "\n",
            "\b\n",
            "\n",
            "표적항암치료의 부작용 관리\n",
            "표적항암치료의 부작용 관리\n",
            "\n",
            "류 혜 원\n",
            "충남대\n",
            "\n",
            "[INFO] Embedded into 5 chunks\n",
            "\n",
            "============================================================\n",
            "[INFO] 5/20. processing paper : paper/jkma-2023-66-1-60.pdf\n",
            "\n",
            "SPECIAL CONTRIBUTION \n",
            "J Korean Med Assoc 2023 January; 66(1):60-69\n",
            "\n",
            "pISSN 1975-8456 / eISSN 2093-5951\n",
            "\n",
            "https://doi.org/10.5124/jkma.2023.66.1.60\n",
            "\n",
            "근대 대전의 최초 개업의 김종하 선생을 찾아서\n",
            "근대 대전의 최초 개업의 김종하 선생을 찾아서\n",
            "\n",
            "김\n",
            "\n",
            "[INFO] Embedded into 6 chunks\n",
            "\n",
            "============================================================\n",
            "[INFO] 6/20. processing paper : paper/jkma-2023-66-3-180.pdf\n",
            "\n",
            "FOCUSED ISSUE OF THIS MONTH \n",
            "J Korean Med Assoc 2023 March; 66(3):180-190\n",
            "\n",
            "pISSN 1975-8456 / eISSN 2093-5951\n",
            "\n",
            "https://doi.org/10.5124/jkma.2023.66.3.180\n",
            "\n",
            "비소세포폐암의 새로운 표적치료\n",
            "비소세포폐암의 새로운 표적치료\n",
            "\n",
            "이 은 혜·곽 세 현\n",
            "\n",
            "[INFO] Embedded into 7 chunks\n",
            "\n",
            "============================================================\n",
            "[INFO] 7/20. processing paper : paper/jkma-2023-66-3-200.pdf\n",
            "\n",
            "ORIGINAL ARTICLE \n",
            "J Korean Med Assoc 2023 March; 66(3):200-208\n",
            "\n",
            "pISSN 1975-8456 / eISSN 2093-5951\n",
            "\n",
            "https://doi.org/10.5124/jkma.2023.66.3.200\n",
            "\n",
            "대한민국 육군에서 만성 코로나19 증후군의 발생률 \n",
            "대한민국 육군에서 만성 코로나19 증후군의 발생률 \n",
            "\n",
            "[INFO] Embedded into 5 chunks\n",
            "\n",
            "============================================================\n",
            "[INFO] 8/20. processing paper : paper/jkma-2023-66-2-132.pdf\n",
            "\n",
            "HeaLtH StatiStiCS of KoRea \n",
            "J Korean Med Assoc 2023 February; 66(2):132-142\n",
            "\n",
            "pISSN 1975-8456 / eISSN 2093-5951\n",
            "\n",
            "https://doi.org/10.5124/jkma.2023.66.2.132\n",
            "\n",
            "우리나라 2020년도 사망원인통계\n",
            "우리나라 2020년도 사망원인통계\n",
            "\n",
            "통계청 인\n",
            "\n",
            "[INFO] Embedded into 4 chunks\n",
            "\n",
            "============================================================\n",
            "[INFO] 9/20. processing paper : paper/jkma-2023-66-2-143.pdf\n",
            "\n",
            "\b 특별기고\n",
            "\n",
            "SPECIAL CONTRIBUTION \n",
            "J Korean Med Assoc 2023 February; 66(2):143-151\n",
            "\n",
            "pISSN 1975-8456 / eISSN 2093-5951\n",
            "\n",
            "https://doi.org/10.5124/jkma.2023.66.2.143\n",
            "\n",
            "외과계 필수의료 전담병원 설립 제안: 필수의료  \n",
            "외과계 필수의료 전담병원 \n",
            "\n",
            "[INFO] Embedded into 7 chunks\n",
            "\n",
            "============================================================\n",
            "[INFO] 10/20. processing paper : paper/jkma-2023-66-2-116.pdf\n",
            "\n",
            "FOCUSED ISSUE OF THIS MONTH \n",
            "J Korean Med Assoc 2023 February; 66(2):116-122\n",
            "\n",
            "pISSN 1975-8456 / eISSN 2093-5951\n",
            "\n",
            "https://doi.org/10.5124/jkma.2023.66.2.116\n",
            "\n",
            "면역항암치료의 부작용 관리: 호흡계와 신경계를  \n",
            "면역항암치료의 부작용 관리:\n",
            "\n",
            "[INFO] Embedded into 5 chunks\n",
            "\n",
            "============================================================\n",
            "[INFO] 11/20. processing paper : paper/jkma-2023-66-1-50.pdf\n",
            "\n",
            "SPECIAL CONTRIBUTION \n",
            "J Korean Med Assoc 2023 January; 66(1):50-59\n",
            "\n",
            "pISSN 1975-8456 / eISSN 2093-5951\n",
            "\n",
            "https://doi.org/10.5124/jkma.2023.66.1.50\n",
            "\n",
            "만성 코로나19 증후군 시대를 위한  \n",
            "만성 코로나19 증후군 시대를 위한  \n",
            "보건의료 대응 방안\n",
            "\n",
            "[INFO] Embedded into 7 chunks\n",
            "\n",
            "============================================================\n",
            "[INFO] 12/20. processing paper : paper/jkma-2023-66-2-123.pdf\n",
            "\n",
            "\b 의학강좌\n",
            "\n",
            "CONTINUING EDUCATION COLUMN \n",
            "J Korean Med Assoc 2023 February; 66(2):123-129\n",
            "\n",
            "pISSN 1975-8456 / eISSN 2093-5951\n",
            "\n",
            "https://doi.org/10.5124/jkma.2023.66.2.123\n",
            "\n",
            "가정용 표백제에 의한 차아염소산 나트륨 중독의  \n",
            "가정용 표백제\n",
            "\n",
            "[INFO] Embedded into 5 chunks\n",
            "\n",
            "============================================================\n",
            "[INFO] 13/20. processing paper : paper/jkma-2023-66-3-209.pdf\n",
            "\n",
            "Physician of Korea \n",
            "J Korean Med Assoc 2023 March; 66(3):209-215\n",
            "\n",
            "pISSN 1975-8456 / eISSN 2093-5951\n",
            "\n",
            "https://doi.org/10.5124/jkma.2023.66.3.209\n",
            "\n",
            "백인제, 노블레스 오블리주를 실천한 한국 현대 의학\n",
            "백인제, 노블레스 오블리주를 실천한 한국 현대 \n",
            "\n",
            "[INFO] Embedded into 6 chunks\n",
            "\n",
            "============================================================\n",
            "[INFO] 14/20. processing paper : paper/jkma-2023-66-3-166.pdf\n",
            "\n",
            "FOCUSED ISSUE OF THIS MONTH \n",
            "J Korean Med Assoc 2023 March; 66(3):166-172\n",
            "\n",
            "pISSN 1975-8456 / eISSN 2093-5951\n",
            "\n",
            "https://doi.org/10.5124/jkma.2023.66.3.166\n",
            "\n",
            "말초 폐병변의 진단: 방사탐색자 기관지내 초음파를 \n",
            "말초 폐병변의 진단: 방사탐색자\n",
            "\n",
            "[INFO] Embedded into 4 chunks\n",
            "\n",
            "============================================================\n",
            "[INFO] 15/20. processing paper : paper/jkma-2023-66-3-191.pdf\n",
            "\n",
            "\b 의학강좌\n",
            "\n",
            "CONTINUING EDUCATION COLUMN \n",
            "J Korean Med Assoc 2023 March; 66(3):191-197\n",
            "\n",
            "pISSN 1975-8456 / eISSN 2093-5951\n",
            "\n",
            "https://doi.org/10.5124/jkma.2023.66.3.191\n",
            "\n",
            "선천성 갑상샘저하증의 진단과 치료\n",
            "선천성 갑상샘저하증의 진단과 치료\n",
            "\n",
            "\n",
            "[INFO] Embedded into 4 chunks\n",
            "\n",
            "============================================================\n",
            "[INFO] 16/20. processing paper : paper/jkma-2023-66-2-92.pdf\n",
            "\n",
            "FOCUSED ISSUE OF THIS MONTH \n",
            "J Korean Med Assoc 2023 February; 66(2):92-104\n",
            "\n",
            "pISSN 1975-8456 / eISSN 2093-5951\n",
            "\n",
            "https://doi.org/10.5124/jkma.2023.66.2.92\n",
            "\n",
            "세포독성 항암치료의 부작용 관리: 일차의료기관을 \n",
            "세포독성 항암치료의 부작용 관리\n",
            "\n",
            "[INFO] Embedded into 8 chunks\n",
            "\n",
            "============================================================\n",
            "[INFO] 17/20. processing paper : paper/jkma-2023-66-3-160.pdf\n",
            "\n",
            "FOCUSED ISSUE OF THIS MONTH \n",
            "J Korean Med Assoc 2023 March; 66(3):160-165\n",
            "\n",
            "pISSN 1975-8456 / eISSN 2093-5951\n",
            "\n",
            "https://doi.org/10.5124/jkma.2023.66.3.160\n",
            "\n",
            "경흉부 바늘생검을 이용한 폐암의 진단\n",
            "경흉부 바늘생검을 이용한 폐암의 진단\n",
            "\n",
            "박 동\n",
            "\n",
            "[INFO] Embedded into 4 chunks\n",
            "\n",
            "============================================================\n",
            "[INFO] 18/20. processing paper : paper/jkma-2023-66-1-11.pdf\n",
            "\n",
            "FOCUSED ISSUE OF THIS MONTH \n",
            "J Korean Med Assoc 2023 January; 66(1):11-18\n",
            "\n",
            "pISSN 1975-8456 / eISSN 2093-5951\n",
            "\n",
            "https://doi.org/10.5124/jkma.2023.66.1.11\n",
            "\n",
            "삼차신경통의 진단과 치료\n",
            "삼차신경통의 진단과 치료\n",
            "\n",
            "박 창 규·임 승 훈·박 봉 진\n",
            "\n",
            "\n",
            "[INFO] Embedded into 5 chunks\n",
            "\n",
            "============================================================\n",
            "[INFO] 19/20. processing paper : paper/jkma-2023-66-1-19.pdf\n",
            "\n",
            "\b 특집2\n",
            "\n",
            "FOCUSED ISSUE OF THIS MONTH \n",
            "J Korean Med Assoc 2023 January; 66(1):19-30\n",
            "\n",
            "pISSN 1975-8456 / eISSN 2093-5951\n",
            "\n",
            "https://doi.org/10.5124/jkma.2023.66.1.19\n",
            "\n",
            "혀인두신경통의 진단과 치료\n",
            "혀인두신경통의 진단과 치료\n",
            "\n",
            "안 영 환1,2\n",
            "\n",
            "\n",
            "[INFO] Embedded into 8 chunks\n",
            "\n",
            "============================================================\n"
          ]
        }
      ],
      "source": [
        "\n",
        "# Process each PDF file and prepare for embedding\n",
        "for i, pdf_file in enumerate(pdf_files):\n",
        "\n",
        "    pdf_path = os.path.join(data_path, pdf_file)\n",
        "    print(f\"[INFO] {i}/{len(pdf_files)}. processing paper : {pdf_path}\\n\")\n",
        "\n",
        "    text = textract.process(pdf_path, method='pdfminer')\n",
        "    print(text.decode(\"utf-8\")[0:200])\n",
        "    print()\n",
        "\n",
        "    handle_file_string(pdf_file, text.decode(\"utf-8\"))\n",
        "    print()\n",
        "    print(\"============================================================\")\n"
      ]
    },
    {
      "cell_type": "code",
      "execution_count": null,
      "metadata": {
        "colab": {
          "base_uri": "https://localhost:8080/"
        },
        "id": "8ImGiPXutfIa",
        "outputId": "f0b87bf0-389f-4c79-a4bf-bcb599abc89a"
      },
      "outputs": [
        {
          "name": "stdout",
          "output_type": "stream",
          "text": [
            "110\n",
            "[-0.05653475224971771, 0.03928762301802635, 0.01875905506312847, 0.06679343432188034, -0.015511218458414078, 0.012576966546475887, 0.013484121300280094, 0.021245330572128296, -0.00978830736130476, -0.005123741924762726]\n",
            "1536\n",
            "jkma-2023-66-1-41.pdf\n",
            "0\n",
            "CONTINUING EDUCATION COLUMN J Korean Med Assoc 2023 January 66(1):41-47 pISSN 1975-8456 / eISSN 2093-5951 https://doi.org/10.5124/jkma.2023.66.1.41 약물에 의한 피부유해반응 약물에 의한 피부유해반응 이 은 혜·장 용 현 경북대학교 의과대학 피부과학교실 Cutaneous adverse drug reactions Eun Hye Lee, MD · Yong Hyun Jang, MD Department of Dermatology, School of Medicine, Kyungpook National University, Daegu, Korea Background: Cutaneous adverse drug reactions are common and produce easily identifiable clinical symptoms. These may range from mild maculopapular rashes to severe reactions associated with systemic disease. Current Concepts: The most common presentation of a drug eruption is in the form of a maculopapular rash or exanthematous skin eruption, followed by fixed drug eruptions and urticaria. Severe cutaneous adverse drug reactions include Stevens-Johnson syndrome/toxic epidermal necrolysis, acute generalized exanthematous pustulosis, and drug-induced hypersensitivity syndrome/drug reaction with eosinophilia and systemic symptoms, which are rare but potentially life-threatening. Recently, it has emerged that cutaneous adverse drug reactions associated with newly developed drugs, such as epidermal growth factor receptor inhibitors, may induce a variety of cutaneous manifestations. Discussion and Conclusion: Although certain drugs, such as antimicrobials and anticonvulsants, can frequently cause drug eruptions, their effects may change, depending on the situation and timing. Therefore, in order to resolve symptoms and prevent complications, early diagnosis, drug identification, and appropriate treatment should be performed, in consideration of the various factors involved. Key Words: Adverse drug reactions Drug eruptions Etiology Skin 서론 하지 않은 변화로 정의되며, 약물 발진(drug eruption)과 관 련된 모든 부작용을 포함한다[1,2]. 피부약물유해반응은 경 약물유해반응(adverse drug reaction) 중 가장 흔하게 나 미하고 일시적일 수도 있으나, 중증으로 나타나 입원이 필요 타나는 유형은 피부약물유해반응(cutaneous adverse drug 하거나 사망으로 이어질 수도 있다. 약물에 의한 피부 부작 reaction)으로, 약물에 의해 본래의 목적과는 달리 발생하는 용은 약물유해반응 중 10-45%를 차지하며, 그 중 약 2-3% 피부, 피부부속기, 점막의 구조나 기능의 예기치 않거나 원 는 입원 치료가 필요하다[3-5]. 우리나라의 경우 약물 부작 용은 전체 입원 환자의 약 30%가 경험하는데 그 중 약물 발 Received: January 4, 2023 Accepted: January 10, 2023 진은 피부과 외래를 내원한 환자의 3.8%, 입원 환자의 8.9% Corresponding author: Yong Hyun Jang E-mail: yhjang@knu.ac.kr © Korean Medical Association This is an Open Access article distributed under the terms of the Creative Commons Attribution Non-Commercial License (http://creativecommons. org/licenses/by-nc/4.0) which permits unrestricted use, distribution, and reproduction in any medium, provided the original work is properly cited. 에서 나타나며, 타과에서 피부과로 협진 의뢰된 입원 환자 중 약 9.7%에서 나타난다고 여러 연구에서 보고된 바 있다 [6-9]. 대부분의 피부약물유해반응은 경미하고 자가 제한적 (self-limiting)이며 원인이 되는 약물을 중단하면 해결이 되 지만, 약 2% 정도는 본질적으로 심각하고 잠재적으로 생명 약물에 의한 피부유해반응 41 J Korean Med Assoc 2023 January 66(1):41-47 을 위협하며 때로는 사망에 이르게 하기도 한다[4]. 약물 발 하는 약물로 대부분 cephalosporin과 penicillin 등의 항 진의 진단은 대부분 병력 청취 및 병변 양상을 확인하여 임 생제를 포함한 항균제의 빈도가 가장 높았으며, 다음은 상적으로 이루어진다. 진단을 위해 의심되는 약물을 재투여 acetylsalicylic acid와 NSAID 계열의 진통소염제 순이었다 하여 동일 병변을 유발하는 경구유발검사의 경우 검사의 신 [6,17-20]. 반면 입원 환자만을 대상으로 한 연구에서는 항 뢰도는 높으나 위험성으로 인한 제한점이 있고, 첩포검사, 균제 다음으로 항암제와 조영제의 비율이 각각 두 번째, 세 단자검사, 피내검사 등이 도움이 되는 경우도 있으나 낮은 번째로 흔한 약제로 보고되었다[9]. 최근에는 많은 약제들 재현성 및 신뢰도로 실제 임상에서 진단을 위해 활용하는데 이 개발되고 다양하게 사용되면서 새로운 약물들에 의한 부 한계가 있다[10-12]. 대부분의 약물 발진은 가역적이며 원 작용에 대한 관심이 높아지며 보고되고 있는데, 대표적으 인이 되는 약물을 중단하면 완화되는 자가 제한적인 경향을 로 표피성장인자수용체(epidermal growth factor receptor, 보이므로, 신속한 진단, 조기 인식, 원인 약물의 중단과 대 EGFR) 억제제, tyrosine kinase inhibitors, tumor necrosis 증 치료 및 적절한 치료제의 사용을 통해 조기 회복 및 합병 factor-alpha antagonists, sirolimus, granulocyte 증의 발생을 줄일 수 있다. 이는 또한 국가적으로 약물유해 colony-stimulating factor 등이 잘 알려져 있다[10]. 반응으로 인한 경제적 부담을 줄이는 데 도움이 될 것이다. 원인 약제 임상 양상 피부약물유해반응은 임상 양상에 따라 경증/양성 혹 피부약물유해반응을 유발하는 가장 흔한 약물은 항균 은 중증으로 분류할 수 있다. 양성 형태는 일반적으로 자 제, 항경련제, 비스테로이드소염제(nonsteroidal anti- 가 제한적이며 피부약물유해반응의 가장 일반적인 표현형 inflammatory drug, NSAID), 항통풍제(anti-gout agent) 이다. 그 중 가장 흔하게 나타나는 임상 양상은 반구진발진 등이다[13,14]. 덜 일반적이지만 피부약물유해반응을 유발 (maculopapular rash)이다. 그 외 고정약물발진(fixed drug 할 수 있는 약물로 항우울제, 항정신병제, 경구 피임약, 방 eruption), 두드러기(urticaria), 혈관부종(angioedema), 접 사선 조영제, 항고혈압제, 항당뇨병제, 인슐린, 백신, 동종 촉피부염(contact dermatitis)도 흔히 관찰할 수 있다. 피부 요법 치료제 등이 있다[15]. 항균제는 피부약물유해반응을 약물유해반응의 임상 형태적 표현은 다양한 인종 집단 특 유발하는 가장 흔한 그룹으로, 그 중에서도 β-lactams 계 성과 다양한 약물 사용 패턴에 따라 지리적으로도 다양하 열 항생제(penicillin, cephalosporins 등), sulfa 계열 항생 게 나타날 수 있다[2]. 중증으로 나타나 생명을 위협할 수 제(cotrimoxazole 등), fluoroquinolones, nitro-imidazole, 있는 피부약물유해반응으로는 대표적으로 스티븐스-존 항결핵제가 흔한 원인 약물로 알려져 있다. 중증의 피부약물 슨증후군(Stevens-Johnson syndrome, SJS), 독성표피 유해반응은 대표적으로 carbamazepine과 phenytoin 등의 괴사융해(toxic epidermal necrolysis, TEN), 급성전신발 약물과 연관되어 나타나는 경향이 있는 반면, 중증이 아닌 진농포증(acute generalized exanthematous pustulosis, 피부약물유해반응은 sulfa 또는 β-lactam 계열 항생제에서 AGEP), 과민증후군(hypersensitivity syndrome) 또는 호산 흔히 나타난다. 모든 항간질제 역시 높은 빈도의 피부약물유 구증가증 및 전신증상을 동반한 약진(drug reaction with 해반응과 관련이 있다[14]. 항히스타민제, 국소 마취제, 스 eosinophilia and systemic symptom, DRESS)이 있다. 테로이드호르몬, digoxin, acetaminophen, coumarin의 경 우리나라의 경우 피부약물유해반응에서 빈도가 높게 관찰 우 피부약물유해반응과 거의 관련이 없다[16].\n"
          ]
        }
      ],
      "source": [
        "from pprint import pprint\n",
        "\n",
        "print(len(embedding_storage))\n",
        "print(embedding_storage[0][\"embedding\"][:10])\n",
        "print(len(embedding_storage[0][\"embedding\"]))\n",
        "print(embedding_storage[0][\"filename\"])\n",
        "print(embedding_storage[0][\"chunk_index\"])\n",
        "print(embedding_storage[0][\"text\"])"
      ]
    },
    {
      "cell_type": "markdown",
      "metadata": {
        "id": "lV0KPSrytfIa"
      },
      "source": [
        "# 가장 가까운 조각(chunk) 구하기"
      ]
    },
    {
      "cell_type": "code",
      "execution_count": null,
      "metadata": {
        "id": "buszgLtMtfIa"
      },
      "outputs": [],
      "source": [
        "from scipy.spatial.distance import cosine\n",
        "import pandas as pd\n",
        "\n",
        "def find_closest_n_index(embedding_storage, embedded_query, n=3):\n",
        "    embeddings = [entity[\"embedding\"] for entity in embedding_storage]\n",
        "    df = pd.DataFrame({'embeddings':embeddings})\n",
        "    df[\"distances\"] = df[\"embeddings\"].apply(lambda x: cosine(embedded_query, x))\n",
        "    sorted_index = df.sort_values(by=\"distances\").index.to_list()\n",
        "    return sorted_index[:n]\n",
        "\n",
        "def find_closest_n_chunk(embedding_storage, query, n=3):\n",
        "    embedded_query = get_embeddings(query)[0]\n",
        "    closest_indexes = find_closest_n_index(embedding_storage, embedded_query, n)\n",
        "    return [embedding_storage[i] for i in closest_indexes]"
      ]
    },
    {
      "cell_type": "code",
      "execution_count": null,
      "metadata": {
        "id": "uqJGo7QltfIa"
      },
      "outputs": [],
      "source": [
        "question = \"코로나19 증후군의 증상은?\"\n",
        "queryed = find_closest_n_chunk(embedding_storage, question, n=1)[0]"
      ]
    },
    {
      "cell_type": "code",
      "execution_count": null,
      "metadata": {
        "colab": {
          "base_uri": "https://localhost:8080/"
        },
        "id": "keI2RV5TtfIa",
        "outputId": "a6c1f5c4-12b1-4610-872b-1418525fa4ca"
      },
      "outputs": [
        {
          "name": "stdout",
          "output_type": "stream",
          "text": [
            "jkma-2023-66-1-50.pdf\n",
            "0\n",
            "SPECIAL CONTRIBUTION J Korean Med Assoc 2023 January 66(1):50-59 pISSN 1975-8456 / eISSN 2093-5951 https://doi.org/10.5124/jkma.2023.66.1.50 만성 코로나19 증후군 시대를 위한 만성 코로나19 증후군 시대를 위한 보건의료 대응 방안 보건의료 대응 방안 김 혜 준1·송 지 훈1·박 상 민1,2 ¹서울대학교 대학원 의과학과 헬스시스템 데이터 사이언스 연구실 ²서울대학교병원 가정의학과 Healthcare response strategies for the long- COVID era Hye Jun Kim, MS1 · Jihun Song, MS1 · Sang Min Park, MD, PhD, MPH1,2 ¹Health System Data Science Laboratory, Department of Biomedical Sciences, Seoul National University College of Medicine, Seoul, Korea ²Department of Family Medicine, Seoul National University Hospital, Seoul, Korea Background: Coronavirus disease (COVID-19), first reported at the end of 2019, is characterized by a broad spectrum of clinical manifestations ranging from asymptomatic to multi-organ dysfunction. These symptoms may persist even after the acute phase has passed. Post-acute COVID-19 syndrome (long-COVID) is a condition characterized by COVID-19 symptoms that persist for longer than two months after infection. Fatigue, muscle and joint pain, dyspnea, cognitive impairment, and anxiety are the most common symptoms of long-COVID. Given the substantial impact of COVID-19 sequelae on the quality of life of its survivors, as well as its socioeconomic burden, proactive measures are required. Current Concepts: Following the identification of long-COVID characteristics and symptoms, patient-centered care based on vaccination, COVID-19 medications, and digital healthcare is recommended. Furthermore, people who are more vulnerable to long-COVID, such as those with respiratory dysfunctions or the older adults, require more specialized and attentive management. Big data and artificial intelligence will hopefully enable a more timely and effective response to this healthcare issue. Discussion and Conclusion: Infectious diseases threaten our lives constantly, as evidenced by the recent COVID-19 pandemic and its lingering consequences. A novel virus can emerge at any time and place, resulting in substantial clinical and economic loss. At this stage, it is crucial to establish prompt and effective strategies against long-COVID, as well as against potential pandemics. Key Words: Post-acute COVID-19 syndrome COVID-19 Public health 서론 Received: October 13, 2022 Accepted: December 7, 2022 Corresponding author: Sang Min Park E-mail: smpark.snuh@gmail.com © Korean Medical Association This is an Open Access article distributed under the terms of the Creative Commons Attribution Non-Commercial License (http://creativecommons. org/licenses/by-nc/4.0) which permits unrestricted use, distribution, and reproduction in any medium, provided the original work is properly cited. 2019년 말 코로나19 (코로나바이러스병-19, coronavirus disease-19, COVID-19) 발발 이후 2022년 10월 1일까지 전 세계적으로 6억 2,000만 건 가까운 환자와 654만 명이 넘는 사 망자가 발생하였다[1]. COVID-19는 severe acute respiratory syndrome coronavirus 2 (SARS-CoV-2) 바이러스 감염에 50 대한의사협회지 Kim HJ · Song J · Park SM·Proactive strategies against long COVID 의해 발생하며, 안지오텐신전환효소(angiotensin converting 만성 코로나19 증후군의 특성과 증상에 대한 규명이 선행 enzyme-2, ACE-2) 수용체를 통해 세포로 유입되어 복제와 되어야 한다. 흔히 만성 코로나19 증후군의 증상으로 알 성숙 과정을 거쳐 다양한 사이토카인(cytokine)에 의해 면역 려진 피로, 인지장애, 관절통, 근육통, 호흡곤란, 수면장애 세포를 활성화하고 침윤을 포함하는 염증 반응을 유발한다[2]. 등을 비롯하여, SARS-CoV-2 감염 및 회복 후에 환자들 ACE-2 수용체는 호흡기 점막, 폐, 심장, 간, 위장, 뇌, 혈관 내 은 여러 신체적, 정신적 변화를 겪는다[4]. 따라서, 어떠한 피 세포 등을 포함하는 인체 내 여러 세포 유형에 존재하기에, COVID-19 환자들에게서 특정 만성 코로나19 증후군 증상 SARS-CoV-2 감염은 여러 장기 손상을 유발한다[3]. 실제로 이 나타날 수 있는지에 대한 평가를 수행하고, 그 결과를 바 COVID-19에 따른 증상은 무증상부터 치명적인 질병이나 사 탕으로 예방 및 관리하는 체계를 구축하여야 한다. 이러한 망에 이르기까지 다양한 스펙트럼으로 보고되고 있다[3]. 관리체계 내에서 특정 증상이 발현된 후에는 효과적인 치료 한편, 이러한 COVID-19 증상은 장기간 지속될 수 있다. 가 가능하도록 특성별 맞춤형 치료 체계의 관점에서 접근할 감염 후 급성기에서 회복한 뒤에도, 상당수의 COVID-19 생 필요가 있다. 또한, 객관적인 검사 결과나 소견이 부재하더 존자가 후유증을 경험하는 것으로 보고되었다[4]. 주요한 증 라도 환자의 증상이나 상태의 유무, 그리고 그 심각성에 대 상으로는 피로, 인지장애, 관절 통증, 불안 및 우울증이 있으 한 충분한 이해와 존중이 필요하다. 나아가, 전반적인 치료 며, COVID-19 진단 후 몇 주에서 몇 달 후까지 지속될 수 있 과정에서 의료 전문가와 환자 간의 충분한 의견 교환을 통해 다[5]. 세계보건기구는 COVID-19 진단 및 증상 발현으로부 환자의 건강 상태와 증상을 고려한 환자 맞춤형 치료가 이 터 12주 이후까지 다른 진단으로 설명될 수 없는 증상이 지속 루어져야 한다. 실제로 미국 질병예방통제센터(Centers for 되는 경우를 ‘post-COVID-19 condition’으로[6], 미국 국립 Disease Control and Prevention)에서는 만성 코로나19 증 보건연구원에서는 COVID-19 진단 후 4주 이후에도 지속되 후군 관련 환자의 평가와 관리를 위해 의료 전문가를 위한 는 증상을 ‘post-acute sequelae of SARS-CoV-2 infection’ 몇 가지 지침을 제공하고 있다. 해당 지침 중에서도 1차 진 으로 정의한 바 있다[7]. 영국 국립보건임상연구소에서는 진 료 제공자는 환자 중심 접근의 관점에서 현재까지 확보된 환 단 후 12주 이후에도 지속되는 증상을 ‘post-COVID-19 자의 정보를 기반으로 이들의 상태를 관리하고, 환자의 삶 syndrome’으로, 유럽 임상미생물 및 감염병 학회에서는 동 의 질과 기능 최적화를 위한 위해 힘써야 한다는 점을 제시 일한 정의를 두고 long COVID로 명명하였다[7]. 이처럼 다양 한다는 것에 주목할 필요가 있다[8]. 이처럼 학술연구를 통 한 용어로 정의되는 관련 증상들을 이 논문에서는 통칭하여 해서 마련된 만성 코로나19 증후군의 증상 및 치료 관련 객 ‘만성 코로나19 증후군’으로 기술하였다. 장기간 지속되는 만 관적 근거들을 바탕으로 만성 코로나19 증후군을 예방하거 성 코로나19 증후군 증상은 환자 개인의 삶의 질을 저하시킬 나, 그 증상의 중증도를 낮출 수 있도록 하는 개인 맞춤형 생 뿐만 아니라 사회적, 경제적으로도 막대한 부담을 가중시킨 활습관 지침, 의료 현장 매뉴얼 및 관련 정책 등을 준비해야 다는 점에서 적절한 대책 마련이 중요하다[5]. 만성 코로나19 할 시기이다. 증후군에 대해 어떻게 대응할 것인지에 대한 이상적인 전략 을 보건의료 빅데이터 및 인공지능 활용 관점에서 알아본다. 만성 코로나19 증후군의 특성과 의료 현장에서의 지침 만성 코로나19 증후군에 효과적으로 대응하기 위해서는 까지 알려진 만성 코로나19 증후군 증상으로 피로, 관절통, 만성 코로나19 증후군의 예방관리 만성 코로나19 증후군 대응의 가장 기본은 COVID-19의 장단기적 후유증 발생을 예방 및 관리하는 것이다. SARS- CoV-2 감염은 심장과 뇌에도 영향을 미치며, 실제로 현재 만성 코로나19 증후군 대응 방안 51 J Korean Med Assoc 2023 January 66(1):50-59 근육통, 호흡곤란 및 수면장애와 같은 경증부터 심뇌혈관질 외래 환자의 진료를 가능하게 한다[12]. 한 예시로, 특정 모 환 등의 중증 증상까지 폭넓게 보고되고 있다[9].\n"
          ]
        }
      ],
      "source": [
        "print(queryed[\"filename\"])\n",
        "print(queryed[\"chunk_index\"])\n",
        "print(queryed[\"text\"])"
      ]
    },
    {
      "cell_type": "markdown",
      "metadata": {
        "id": "SnEvZgpBtfIa"
      },
      "source": [
        "# 구한 조각 내용으로 문의하기"
      ]
    },
    {
      "cell_type": "code",
      "execution_count": null,
      "metadata": {
        "colab": {
          "base_uri": "https://localhost:8080/"
        },
        "id": "NBC4KWk-tfIa",
        "outputId": "c57b09b5-44ed-4c0c-8b1f-1296d232618b"
      },
      "outputs": [
        {
          "name": "stdout",
          "output_type": "stream",
          "text": [
            "질문 :  코로나19 증후군의 증상은?\n",
            "근거 문서 파일 이름 :  jkma-2023-66-1-50.pdf\n",
            "근거 문서 조각 인덱스 :  0\n",
            "근거 문서 내용 :  SPECIAL CONTRIBUTION J Korean Med Assoc 2023 January 66(1):50-59 pISSN 1975-8456 / eISSN 2093-5951 https://doi.org/10.5124/jkma.2023.66.1.50 만성 코로나19 증후군 시대를 위한 만성 코로나19 증후군 시대를 위한 보건의료 대응 방안 보건의료 대응 방안 김 혜 준1·송 지 훈1·박 상 민1,2 ¹서울대학교 대학원 의과학과 헬스시스템 데이터 사이언스 연구실 ²서울대학교병원 가정의학과 Healthcare response strategies for the long- COVID era Hye Jun Kim, MS1 · Jihun Song, MS1 · Sang Min Park, MD, PhD, MPH1,2 ¹Health System Data Science Laboratory, Department of Biomedical Sciences, Seoul National University College of Medicine, Seoul, Korea ²Department of Family Medicine, Seoul National University Hospital, Seoul, Korea Background: Coronavirus disease (COVID-19), first reported at the end of 2019, is characterized by a broad spectrum of clinical manifestations ranging from asymptomatic to multi-organ dysfunction. These symptoms may persist even after the acute phase has passed. Post-acute COVID-19 syndrome (long-COVID) is a condition characterized by COVID-19 symptoms that persist for longer than two months after infection. Fatigue, muscle and joint pain, dyspnea, cognitive impairment, and anxiety are the most common symptoms of long-COVID. Given the substantial impact of COVID-19 sequelae on the quality of life of its survivors, as well as its socioeconomic burden, proactive measures are required. Current Concepts: Following the identification of long-COVID characteristics and symptoms, patient-centered care based on vaccination, COVID-19 medications, and digital healthcare is recommended. Furthermore, people who are more vulnerable to long-COVID, such as those with respiratory dysfunctions or the older adults, require more specialized and attentive management. Big data and artificial intelligence will hopefully enable a more timely and effective response to this healthcare issue. Discussion and Conclusion: Infectious diseases threaten our lives constantly, as evidenced by the recent COVID-19 pandemic and its lingering consequences. A novel virus can emerge at any time and place, resulting in substantial clinical and economic loss. At this stage, it is crucial to establish prompt and effective strategies against long-COVID, as well as against potential pandemics. Key Words: Post-acute COVID-19 syndrome COVID-19 Public health 서론 Received: October 13, 2022 Accepted: December 7, 2022 Corresponding author: Sang Min Park E-mail: smpark.snuh@gmail.com © Korean Medical Association This is an Open Access article distributed under the terms of the Creative Commons Attribution Non-Commercial License (http://creativecommons. org/licenses/by-nc/4.0) which permits unrestricted use, distribution, and reproduction in any medium, provided the original work is properly cited. 2019년 말 코로나19 (코로나바이러스병-19, coronavirus disease-19, COVID-19) 발발 이후 2022년 10월 1일까지 전 세계적으로 6억 2,000만 건 가까운 환자와 654만 명이 넘는 사 망자가 발생하였다[1]. COVID-19는 severe acute respiratory syndrome coronavirus 2 (SARS-CoV-2) 바이러스 감염에 50 대한의사협회지 Kim HJ · Song J · Park SM·Proactive strategies against long COVID 의해 발생하며, 안지오텐신전환효소(angiotensin converting 만성 코로나19 증후군의 특성과 증상에 대한 규명이 선행 enzyme-2, ACE-2) 수용체를 통해 세포로 유입되어 복제와 되어야 한다. 흔히 만성 코로나19 증후군의 증상으로 알 성숙 과정을 거쳐 다양한 사이토카인(cytokine)에 의해 면역 려진 피로, 인지장애, 관절통, 근육통, 호흡곤란, 수면장애 세포를 활성화하고 침윤을 포함하는 염증 반응을 유발한다[2]. 등을 비롯하여, SARS-CoV-2 감염 및 회복 후에 환자들 ACE-2 수용체는 호흡기 점막, 폐, 심장, 간, 위장, 뇌, 혈관 내 은 여러 신체적, 정신적 변화를 겪는다[4]. 따라서, 어떠한 피 세포 등을 포함하는 인체 내 여러 세포 유형에 존재하기에, COVID-19 환자들에게서 특정 만성 코로나19 증후군 증상 SARS-CoV-2 감염은 여러 장기 손상을 유발한다[3]. 실제로 이 나타날 수 있는지에 대한 평가를 수행하고, 그 결과를 바 COVID-19에 따른 증상은 무증상부터 치명적인 질병이나 사 탕으로 예방 및 관리하는 체계를 구축하여야 한다. 이러한 망에 이르기까지 다양한 스펙트럼으로 보고되고 있다[3]. 관리체계 내에서 특정 증상이 발현된 후에는 효과적인 치료 한편, 이러한 COVID-19 증상은 장기간 지속될 수 있다. 가 가능하도록 특성별 맞춤형 치료 체계의 관점에서 접근할 감염 후 급성기에서 회복한 뒤에도, 상당수의 COVID-19 생 필요가 있다. 또한, 객관적인 검사 결과나 소견이 부재하더 존자가 후유증을 경험하는 것으로 보고되었다[4]. 주요한 증 라도 환자의 증상이나 상태의 유무, 그리고 그 심각성에 대 상으로는 피로, 인지장애, 관절 통증, 불안 및 우울증이 있으 한 충분한 이해와 존중이 필요하다. 나아가, 전반적인 치료 며, COVID-19 진단 후 몇 주에서 몇 달 후까지 지속될 수 있 과정에서 의료 전문가와 환자 간의 충분한 의견 교환을 통해 다[5]. 세계보건기구는 COVID-19 진단 및 증상 발현으로부 환자의 건강 상태와 증상을 고려한 환자 맞춤형 치료가 이 터 12주 이후까지 다른 진단으로 설명될 수 없는 증상이 지속 루어져야 한다. 실제로 미국 질병예방통제센터(Centers for 되는 경우를 ‘post-COVID-19 condition’으로[6], 미국 국립 Disease Control and Prevention)에서는 만성 코로나19 증 보건연구원에서는 COVID-19 진단 후 4주 이후에도 지속되 후군 관련 환자의 평가와 관리를 위해 의료 전문가를 위한 는 증상을 ‘post-acute sequelae of SARS-CoV-2 infection’ 몇 가지 지침을 제공하고 있다. 해당 지침 중에서도 1차 진 으로 정의한 바 있다[7]. 영국 국립보건임상연구소에서는 진 료 제공자는 환자 중심 접근의 관점에서 현재까지 확보된 환 단 후 12주 이후에도 지속되는 증상을 ‘post-COVID-19 자의 정보를 기반으로 이들의 상태를 관리하고, 환자의 삶 syndrome’으로, 유럽 임상미생물 및 감염병 학회에서는 동 의 질과 기능 최적화를 위한 위해 힘써야 한다는 점을 제시 일한 정의를 두고 long COVID로 명명하였다[7]. 이처럼 다양 한다는 것에 주목할 필요가 있다[8]. 이처럼 학술연구를 통 한 용어로 정의되는 관련 증상들을 이 논문에서는 통칭하여 해서 마련된 만성 코로나19 증후군의 증상 및 치료 관련 객 ‘만성 코로나19 증후군’으로 기술하였다. 장기간 지속되는 만 관적 근거들을 바탕으로 만성 코로나19 증후군을 예방하거 성 코로나19 증후군 증상은 환자 개인의 삶의 질을 저하시킬 나, 그 증상의 중증도를 낮출 수 있도록 하는 개인 맞춤형 생 뿐만 아니라 사회적, 경제적으로도 막대한 부담을 가중시킨 활습관 지침, 의료 현장 매뉴얼 및 관련 정책 등을 준비해야 다는 점에서 적절한 대책 마련이 중요하다[5]. 만성 코로나19 할 시기이다. 증후군에 대해 어떻게 대응할 것인지에 대한 이상적인 전략 을 보건의료 빅데이터 및 인공지능 활용 관점에서 알아본다. 만성 코로나19 증후군의 특성과 의료 현장에서의 지침 만성 코로나19 증후군에 효과적으로 대응하기 위해서는 까지 알려진 만성 코로나19 증후군 증상으로 피로, 관절통, 만성 코로나19 증후군의 예방관리 만성 코로나19 증후군 대응의 가장 기본은 COVID-19의 장단기적 후유증 발생을 예방 및 관리하는 것이다. SARS- CoV-2 감염은 심장과 뇌에도 영향을 미치며, 실제로 현재 만성 코로나19 증후군 대응 방안 51 J Korean Med Assoc 2023 January 66(1):50-59 근육통, 호흡곤란 및 수면장애와 같은 경증부터 심뇌혈관질 외래 환자의 진료를 가능하게 한다[12]. 한 예시로, 특정 모 환 등의 중증 증상까지 폭넓게 보고되고 있다[9].\n",
            "답변 :  \"Fatigue, muscle and joint pain, dyspnea, cognitive impairment, and anxiety are the most common symptoms of long-COVID.\"\n"
          ]
        }
      ],
      "source": [
        "prompt = f\"\"\"\n",
        "You are helpful QnA engine.\n",
        "You will be provided with text delimited by triple quotes and question.\n",
        "Step 1. find the text part from the given text which is used to reason the answer of question\n",
        "Step 2. answer the question in Korean and show the text part with quotation mark.\n",
        "If not found just say 'could not answer'.\n",
        "\"\"\"\n",
        "\n",
        "text_and_question = f\"\"\"\n",
        "Text:\n",
        "```{queryed[\"text\"]}```\n",
        "\n",
        "Question:\n",
        "```{question}```\n",
        "\"\"\"\n",
        "\n",
        "\n",
        "\n",
        "MODEL = \"gpt-3.5-turbo\"\n",
        "response = client.chat.completions.create(\n",
        "    model=MODEL,\n",
        "    messages=[\n",
        "        {\"role\": \"system\", \"content\": prompt},\n",
        "        {\"role\": \"user\", \"content\": text_and_question},\n",
        "    ],\n",
        ")\n",
        "\n",
        "\n",
        "print(\"질문 : \", question)\n",
        "print(\"근거 문서 파일 이름 : \", queryed[\"filename\"])\n",
        "print(\"근거 문서 조각 인덱스 : \", queryed[\"chunk_index\"])\n",
        "print(\"근거 문서 내용 : \", queryed[\"text\"])\n",
        "print(\"답변 : \", response.choices[0].message.content)"
      ]
    },
    {
      "cell_type": "code",
      "execution_count": null,
      "metadata": {
        "id": "kAzgFmNZtfIa"
      },
      "outputs": [],
      "source": []
    }
  ],
  "metadata": {
    "colab": {
      "provenance": []
    },
    "kernelspec": {
      "display_name": "Python 3",
      "language": "python",
      "name": "python3"
    },
    "language_info": {
      "codemirror_mode": {
        "name": "ipython",
        "version": 3
      },
      "file_extension": ".py",
      "mimetype": "text/x-python",
      "name": "python",
      "nbconvert_exporter": "python",
      "pygments_lexer": "ipython3",
      "version": "3.10.6"
    },
    "orig_nbformat": 4
  },
  "nbformat": 4,
  "nbformat_minor": 0
}
