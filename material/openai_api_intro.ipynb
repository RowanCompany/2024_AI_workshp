{
 "cells": [
  {
   "cell_type": "code",
   "execution_count": 1,
   "metadata": {},
   "outputs": [
    {
     "name": "stdout",
     "output_type": "stream",
     "text": [
      "Requirement already satisfied: openai in /Users/rim/.pyenv/versions/3.10.6/lib/python3.10/site-packages (1.3.7)\n",
      "Collecting openai\n",
      "  Downloading openai-1.35.7-py3-none-any.whl.metadata (21 kB)\n",
      "Requirement already satisfied: anyio<5,>=3.5.0 in /Users/rim/.pyenv/versions/3.10.6/lib/python3.10/site-packages (from openai) (3.7.1)\n",
      "Requirement already satisfied: distro<2,>=1.7.0 in /Users/rim/.pyenv/versions/3.10.6/lib/python3.10/site-packages (from openai) (1.8.0)\n",
      "Requirement already satisfied: httpx<1,>=0.23.0 in /Users/rim/.pyenv/versions/3.10.6/lib/python3.10/site-packages (from openai) (0.25.2)\n",
      "Requirement already satisfied: pydantic<3,>=1.9.0 in /Users/rim/.pyenv/versions/3.10.6/lib/python3.10/site-packages (from openai) (2.5.2)\n",
      "Requirement already satisfied: sniffio in /Users/rim/.pyenv/versions/3.10.6/lib/python3.10/site-packages (from openai) (1.3.0)\n",
      "Requirement already satisfied: tqdm>4 in /Users/rim/.pyenv/versions/3.10.6/lib/python3.10/site-packages (from openai) (4.66.1)\n",
      "Requirement already satisfied: typing-extensions<5,>=4.7 in /Users/rim/.pyenv/versions/3.10.6/lib/python3.10/site-packages (from openai) (4.11.0)\n",
      "Requirement already satisfied: idna>=2.8 in /Users/rim/.pyenv/versions/3.10.6/lib/python3.10/site-packages (from anyio<5,>=3.5.0->openai) (3.7)\n",
      "Requirement already satisfied: exceptiongroup in /Users/rim/.pyenv/versions/3.10.6/lib/python3.10/site-packages (from anyio<5,>=3.5.0->openai) (1.2.0)\n",
      "Requirement already satisfied: certifi in /Users/rim/.pyenv/versions/3.10.6/lib/python3.10/site-packages (from httpx<1,>=0.23.0->openai) (2024.2.2)\n",
      "Requirement already satisfied: httpcore==1.* in /Users/rim/.pyenv/versions/3.10.6/lib/python3.10/site-packages (from httpx<1,>=0.23.0->openai) (1.0.2)\n",
      "Requirement already satisfied: h11<0.15,>=0.13 in /Users/rim/.pyenv/versions/3.10.6/lib/python3.10/site-packages (from httpcore==1.*->httpx<1,>=0.23.0->openai) (0.14.0)\n",
      "Requirement already satisfied: annotated-types>=0.4.0 in /Users/rim/.pyenv/versions/3.10.6/lib/python3.10/site-packages (from pydantic<3,>=1.9.0->openai) (0.6.0)\n",
      "Requirement already satisfied: pydantic-core==2.14.5 in /Users/rim/.pyenv/versions/3.10.6/lib/python3.10/site-packages (from pydantic<3,>=1.9.0->openai) (2.14.5)\n",
      "Downloading openai-1.35.7-py3-none-any.whl (327 kB)\n",
      "\u001b[2K   \u001b[90m━━━━━━━━━━━━━━━━━━━━━━━━━━━━━━━━━━━━━━━━\u001b[0m \u001b[32m327.5/327.5 kB\u001b[0m \u001b[31m13.3 MB/s\u001b[0m eta \u001b[36m0:00:00\u001b[0m\n",
      "\u001b[?25h\u001b[33mDEPRECATION: textract 1.6.5 has a non-standard dependency specifier extract-msg<=0.29.*. pip 24.0 will enforce this behaviour change. A possible replacement is to upgrade to a newer version of textract or contact the author to suggest that they release a version with a conforming dependency specifiers. Discussion can be found at https://github.com/pypa/pip/issues/12063\u001b[0m\u001b[33m\n",
      "\u001b[0mInstalling collected packages: openai\n",
      "  Attempting uninstall: openai\n",
      "    Found existing installation: openai 1.3.7\n",
      "    Uninstalling openai-1.3.7:\n",
      "      Successfully uninstalled openai-1.3.7\n",
      "Successfully installed openai-1.35.7\n",
      "\n",
      "\u001b[1m[\u001b[0m\u001b[34;49mnotice\u001b[0m\u001b[1;39;49m]\u001b[0m\u001b[39;49m A new release of pip is available: \u001b[0m\u001b[31;49m23.3.1\u001b[0m\u001b[39;49m -> \u001b[0m\u001b[32;49m24.1\u001b[0m\n",
      "\u001b[1m[\u001b[0m\u001b[34;49mnotice\u001b[0m\u001b[1;39;49m]\u001b[0m\u001b[39;49m To update, run: \u001b[0m\u001b[32;49mpip install --upgrade pip\u001b[0m\n"
     ]
    }
   ],
   "source": [
    "!pip install --upgrade openai"
   ]
  },
  {
   "cell_type": "code",
   "execution_count": 2,
   "metadata": {},
   "outputs": [],
   "source": [
    "from openai import OpenAI\n",
    "import os"
   ]
  },
  {
   "cell_type": "code",
   "execution_count": 3,
   "metadata": {},
   "outputs": [],
   "source": [
    "client = OpenAI(api_key=\"\")"
   ]
  },
  {
   "cell_type": "markdown",
   "metadata": {},
   "source": [
    "# 기본 호출"
   ]
  },
  {
   "cell_type": "code",
   "execution_count": 20,
   "metadata": {},
   "outputs": [
    {
     "name": "stdout",
     "output_type": "stream",
     "text": [
      "에어컨을 켜고 물을 많이 마시는 것이 좋겠네요. 더위 조심하세요.\n"
     ]
    }
   ],
   "source": [
    "MODEL = \"gpt-3.5-turbo\"\n",
    "response = client.chat.completions.create(\n",
    "    model=MODEL,\n",
    "    messages=[\n",
    "        {\"role\": \"user\", \"content\": \"날씨가 더워요\"},\n",
    "    ],\n",
    ")\n",
    "\n",
    "print(response.choices[0].message.content)"
   ]
  },
  {
   "cell_type": "markdown",
   "metadata": {},
   "source": [
    "# Prompt 사용"
   ]
  },
  {
   "cell_type": "code",
   "execution_count": 21,
   "metadata": {},
   "outputs": [
    {
     "name": "stdout",
     "output_type": "stream",
     "text": [
      "It's hot today.\n"
     ]
    }
   ],
   "source": [
    "MODEL = \"gpt-3.5-turbo\"\n",
    "response = client.chat.completions.create(\n",
    "    model=MODEL,\n",
    "    messages=[\n",
    "        {\"role\": \"system\", \"content\": \"너는 영어 번역가야.\"},        \n",
    "        {\"role\": \"user\", \"content\": \"날씨가 더워요\"},\n",
    "    ],\n",
    ")\n",
    "\n",
    "print(response.choices[0].message.content)"
   ]
  },
  {
   "cell_type": "code",
   "execution_count": 22,
   "metadata": {},
   "outputs": [
    {
     "name": "stdout",
     "output_type": "stream",
     "text": [
      "더워진 날씨에 대비하여 빌딩 내부의 온도를 조절하고 싶으시군요. 에어컨을 켜거나 환기를 시키는 등의 조치를 취할 수 있습니다. 또한 빌딩 내부의 일괄적인 온도 관리를 위해 열창이나 창문을 제어할 필요가 있을 수 있습니다. 더욱 세부적인 조치가 필요하다면 언제든지 말씀해주시면 도와드리겠습니다.\n"
     ]
    }
   ],
   "source": [
    "MODEL = \"gpt-3.5-turbo\"\n",
    "response = client.chat.completions.create(\n",
    "    model=MODEL,\n",
    "    messages=[\n",
    "        {\"role\": \"system\", \"content\": \"너는 빌딩 관리인이야.\"},        \n",
    "        {\"role\": \"user\", \"content\": \"날씨가 더워요\"},\n",
    "    ],\n",
    ")\n",
    "\n",
    "print(response.choices[0].message.content)"
   ]
  },
  {
   "cell_type": "code",
   "execution_count": 23,
   "metadata": {},
   "outputs": [
    {
     "name": "stdout",
     "output_type": "stream",
     "text": [
      "더워서 힘들겠죠. 물을 충분히 섭취하고, 가벼운 옷차림을 유의해야 해요. 에어컨이나 선풍기를 켜 놓고, 무더운 시간대에는 실외 활동을 자제하는 것도 좋아요. 더위 조심하세요.\n"
     ]
    }
   ],
   "source": [
    "MODEL = \"gpt-3.5-turbo\"\n",
    "response = client.chat.completions.create(\n",
    "    model=MODEL,\n",
    "    messages=[\n",
    "        {\"role\": \"system\", \"content\": \"너는 친절한 상담사야.\"},        \n",
    "        {\"role\": \"user\", \"content\": \"날씨가 더워요\"},\n",
    "    ],\n",
    ")\n",
    "\n",
    "print(response.choices[0].message.content)"
   ]
  },
  {
   "cell_type": "code",
   "execution_count": 28,
   "metadata": {},
   "outputs": [
    {
     "name": "stdout",
     "output_type": "stream",
     "text": [
      "더위 먹지 마세요. 더위에 지치면 살 찌니까요!\n"
     ]
    }
   ],
   "source": [
    "MODEL = \"gpt-3.5-turbo\"\n",
    "response = client.chat.completions.create(\n",
    "    model=MODEL,\n",
    "    messages=[\n",
    "        {\"role\": \"system\", \"content\": \"너는 개그맨이야.\"},        \n",
    "        {\"role\": \"user\", \"content\": \"날씨가 더워요\"},\n",
    "    ],\n",
    ")\n",
    "\n",
    "print(response.choices[0].message.content)"
   ]
  },
  {
   "cell_type": "markdown",
   "metadata": {},
   "source": [
    "# Prompt From Example\n",
    "\n",
    "https://platform.openai.com/docs/examples"
   ]
  },
  {
   "cell_type": "markdown",
   "metadata": {},
   "source": [
    "## Meeting notes summarizer"
   ]
  },
  {
   "cell_type": "code",
   "execution_count": 40,
   "metadata": {},
   "outputs": [
    {
     "name": "stdout",
     "output_type": "stream",
     "text": [
      "Overall Summary:\n",
      "The meeting covered various important topics including a debrief on the recent mission to Planet Zog, addressing the space pirate issue in Sector 7, reviewing the Intergalactic Bake-Off results, planning for an upcoming charity fundraiser, and discussing an upcoming team-building retreat to the Moon Resort and Spa. The team shared ideas, tasks were delegated, and plans were made for future activities.\n",
      "\n",
      "Action Items:\n",
      "1. Dr. Quasar will work on creating a Zogian-English dictionary.\n",
      "2. Dr. Quasar will continue finalizing the prototype for a new cloaking technology.\n",
      "3. Captain Stardust will speak with Admiral Starbeam about increasing patrols in Sector 7.\n",
      "4. Ms. Comet will prepare for a team-building retreat to the Moon Resort and Spa.\n",
      "5. All team members will contribute to final preparations for the Intergalactic Charity Bazaar.\n",
      "\n",
      "Next Meeting Agenda Topics:\n",
      "- Update on the Zogian-English dictionary progress\n",
      "- Progress report on the cloaking technology\n",
      "- Results of increased patrols in Sector 7\n",
      "- Final preparations for the Intergalactic Charity Bazaar.\n"
     ]
    }
   ],
   "source": [
    "prompt = \"\"\"\n",
    "You will be provided with meeting notes, and your task is to summarize the meeting as follows:\n",
    "    \n",
    "    -Overall summary of discussion\n",
    "    -Action items (what needs to be done and who is doing it)\n",
    "    -If applicable, a list of topics that need to be discussed more fully in the next meeting.\n",
    "    \n",
    "not md. just text.    \n",
    "\"\"\"\n",
    "user_message = \"\"\"\n",
    "\n",
    "Meeting Date: March 5th, 2050\n",
    "    Meeting Time: 2:00 PM\n",
    "    Location: Conference Room 3B, Intergalactic Headquarters\n",
    "    \n",
    "    Attendees:\n",
    "    - Captain Stardust\n",
    "    - Dr. Quasar\n",
    "    - Lady Nebula\n",
    "    - Sir Supernova\n",
    "    - Ms. Comet\n",
    "    \n",
    "    Meeting called to order by Captain Stardust at 2:05 PM\n",
    "    \n",
    "    1. Introductions and welcome to our newest team member, Ms. Comet\n",
    "    \n",
    "    2. Discussion of our recent mission to Planet Zog\n",
    "    - Captain Stardust: \"Overall, a success, but communication with the Zogians was difficult. We need to improve our language skills.\"\n",
    "    - Dr. Quasar: \"Agreed. I'll start working on a Zogian-English dictionary right away.\"\n",
    "    - Lady Nebula: \"The Zogian food was out of this world, literally! We should consider having a Zogian food night on the ship.\"\n",
    "    \n",
    "    3. Addressing the space pirate issue in Sector 7\n",
    "    - Sir Supernova: \"We need a better strategy for dealing with these pirates. They've already plundered three cargo ships this month.\"\n",
    "    - Captain Stardust: \"I'll speak with Admiral Starbeam about increasing patrols in that area.\n",
    "    - Dr. Quasar: \"I've been working on a new cloaking technology that could help our ships avoid detection by the pirates. I'll need a few more weeks to finalize the prototype.\"\n",
    "    \n",
    "    4. Review of the annual Intergalactic Bake-Off\n",
    "    - Lady Nebula: \"I'm happy to report that our team placed second in the competition! Our Martian Mud Pie was a big hit!\"\n",
    "    - Ms. Comet: \"Let's aim for first place next year. I have a secret recipe for Jupiter Jello that I think could be a winner.\"\n",
    "    \n",
    "    5. Planning for the upcoming charity fundraiser\n",
    "    - Captain Stardust: \"We need some creative ideas for our booth at the Intergalactic Charity Bazaar.\"\n",
    "    - Sir Supernova: \"How about a 'Dunk the Alien' game? We can have people throw water balloons at a volunteer dressed as an alien.\"\n",
    "    - Dr. Quasar: \"I can set up a 'Name That Star' trivia game with prizes for the winners.\"\n",
    "    - Lady Nebula: \"Great ideas, everyone. Let's start gathering the supplies and preparing the games.\"\n",
    "    \n",
    "    6. Upcoming team-building retreat\n",
    "    - Ms. Comet: \"I would like to propose a team-building retreat to the Moon Resort and Spa. It's a great opportunity to bond and relax after our recent missions.\"\n",
    "    - Captain Stardust: \"Sounds like a fantastic idea. I'll check the budget and see if we can make it happen.\"\n",
    "    \n",
    "    7. Next meeting agenda items\n",
    "    - Update on the Zogian-English dictionary (Dr. Quasar)\n",
    "    - Progress report on the cloaking technology (Dr. Quasar)\n",
    "    - Results of increased patrols in Sector 7 (Captain Stardust)\n",
    "    - Final preparations for the Intergalactic Charity Bazaar (All)\n",
    "    \n",
    "    Meeting adjourned at 3:15 PM. Next meeting scheduled for March 19th, 2050 at 2:00 PM in Conference Room 3B, Intergalactic Headquarters.\n",
    "\"\"\"\n",
    "\n",
    "MODEL = \"gpt-3.5-turbo\"\n",
    "response = client.chat.completions.create(\n",
    "    model=MODEL,\n",
    "    messages=[\n",
    "        {\"role\": \"system\", \"content\": prompt },\n",
    "        {\"role\": \"user\", \"content\": user_message },\n",
    "    ],\n",
    ")\n",
    "\n",
    "print(response.choices[0].message.content)\n"
   ]
  },
  {
   "cell_type": "markdown",
   "metadata": {},
   "source": [
    "## Product name generator\n"
   ]
  },
  {
   "cell_type": "code",
   "execution_count": 41,
   "metadata": {},
   "outputs": [
    {
     "name": "stdout",
     "output_type": "stream",
     "text": [
      "1. QuickBlend Milkshake Maker\n",
      "2. VitaMilkshake Express\n",
      "3. MiniMix Milkshake Blender\n",
      "4. SpeedyShake Healthy Mixer\n",
      "5. Compact Creme Shaker\n",
      "6. NutriBlend Shake Maker\n",
      "7. HealthEase Milkshake Mixer\n",
      "8. SwiftWhip Milkshake Blender\n",
      "9. FitMix Compact Milkshake Maker\n",
      "10. PowerBlend Healthy Shake Mixer\n"
     ]
    }
   ],
   "source": [
    "prompt = \"\"\"\n",
    "You will be provided with a product description and seed words, and your task is to generate product names.\n",
    "\"\"\"\n",
    "user_message = \"\"\"\n",
    "Product description: A home milkshake maker\n",
    "    Seed words: fast, healthy, compact.\n",
    "\"\"\"\n",
    "\n",
    "MODEL = \"gpt-3.5-turbo\"\n",
    "response = client.chat.completions.create(\n",
    "    model=MODEL,\n",
    "    messages=[\n",
    "        {\"role\": \"system\", \"content\": prompt },\n",
    "        {\"role\": \"user\", \"content\": user_message },\n",
    "    ],\n",
    ")\n",
    "\n",
    "print(response.choices[0].message.content)\n"
   ]
  },
  {
   "cell_type": "markdown",
   "metadata": {},
   "source": [
    "## Turn by turn directions"
   ]
  },
  {
   "cell_type": "code",
   "execution_count": 42,
   "metadata": {},
   "outputs": [
    {
     "name": "stdout",
     "output_type": "stream",
     "text": [
      "1. Start by going south on 95.\n",
      "2. Continue until you reach Sunrise Boulevard.\n",
      "3. Turn right onto Sunrise Boulevard and head east.\n",
      "4. Follow Sunrise Boulevard until you reach US 1.\n",
      "5. Turn left onto US 1 and head south.\n",
      "6. After several miles, you will find Tom Jenkins BBQ on the left.\n"
     ]
    }
   ],
   "source": [
    "prompt = \"\"\"\n",
    "You will be provided with a text, and your task is to create a numbered list of turn-by-turn directions from it.\n",
    "\"\"\"\n",
    "user_message = \"\"\"\n",
    "Go south on 95 until you hit Sunrise boulevard then take it east to us 1 and head south. Tom Jenkins bbq will be on the left after several miles.\n",
    "\"\"\"\n",
    "\n",
    "MODEL = \"gpt-3.5-turbo\"\n",
    "response = client.chat.completions.create(\n",
    "    model=MODEL,\n",
    "    messages=[\n",
    "        {\"role\": \"system\", \"content\": prompt },\n",
    "        {\"role\": \"user\", \"content\": user_message },\n",
    "    ],\n",
    ")\n",
    "\n",
    "print(response.choices[0].message.content)\n"
   ]
  },
  {
   "cell_type": "markdown",
   "metadata": {},
   "source": [
    "# 문맥"
   ]
  },
  {
   "cell_type": "code",
   "execution_count": 31,
   "metadata": {},
   "outputs": [
    {
     "name": "stdout",
     "output_type": "stream",
     "text": [
      "1 + 2 = 3\n"
     ]
    }
   ],
   "source": [
    "MODEL = \"gpt-3.5-turbo\"\n",
    "response = client.chat.completions.create(\n",
    "    model=MODEL,\n",
    "    messages=[\n",
    "        {\"role\": \"system\", \"content\": \"계산기로 동작해 줘.\"},\n",
    "        {\"role\": \"user\", \"content\": \"1+2\"},\n",
    "    ],\n",
    ")\n",
    "\n",
    "print(response.choices[0].message.content)"
   ]
  },
  {
   "cell_type": "code",
   "execution_count": 35,
   "metadata": {},
   "outputs": [
    {
     "name": "stdout",
     "output_type": "stream",
     "text": [
      "이전 결과에 4를 더하면 7가 됩니다.\n"
     ]
    }
   ],
   "source": [
    "MODEL = \"gpt-3.5-turbo\"\n",
    "response = client.chat.completions.create(\n",
    "    model=MODEL,\n",
    "    messages=[\n",
    "        {\"role\": \"system\", \"content\": \"계산기로 동작해 줘.\"},\n",
    "        {\"role\": \"user\", \"content\": \"1+2\"},\n",
    "        {\"role\": \"assistant\", \"content\": \"1 + 2 = 3\"},\n",
    "        {\"role\": \"user\", \"content\": \"+4\"},\n",
    "    ],\n",
    ")\n",
    "\n",
    "print(response.choices[0].message.content)"
   ]
  },
  {
   "cell_type": "markdown",
   "metadata": {},
   "source": [
    "# Tiny Chatbot"
   ]
  },
  {
   "cell_type": "code",
   "execution_count": 38,
   "metadata": {},
   "outputs": [
    {
     "name": "stdout",
     "output_type": "stream",
     "text": [
      "하이\n",
      "안녕하세요! 무엇을 도와드릴까요? :)\n",
      "날씨가 더워졌어.\n",
      "그렇죠, 요즘엔 날씨가 더워지는 트렌드가 있는 것 같아요. 더위에 주의해서 건강하고 시원하게 보내시길 바랍니다! 필요하신 정보나 도움이 있으시면 언제든지 말씀해주세요. 함께 대화 나눠요! :)\n",
      "내일 날씨는?\n",
      "죄송하지만, 저는 실시간 정보를 제공할 수 없습니다. 날씨 상황이나 예보는 지역에 따라 다를 수 있으므로, 지역에 맞는 기상정보 사이트나 앱을 이용하시는 것을 권장드립니다. 제가 도와드릴 수 있는 다른 정보나 질문이 있으면 자유롭게 말씀해주세요! :)\n",
      "exit\n"
     ]
    }
   ],
   "source": [
    "messages = []\n",
    "\n",
    "while True:\n",
    "    user_message = input()\n",
    "    print(user_message, flush=True)\n",
    "    if user_message==\"exit\": break\n",
    "    messages.append({\"role\":\"user\", \"content\":user_message})\n",
    "    response = client.chat.completions.create(\n",
    "        model=MODEL,\n",
    "        messages=messages,\n",
    "    )\n",
    "\n",
    "    system_message = response.choices[0].message.content\n",
    "    print(system_message, flush=True)\n",
    "    messages.append({\"role\":\"assistant\", \"content\":system_message})"
   ]
  },
  {
   "cell_type": "markdown",
   "metadata": {},
   "source": [
    "# 금지어 처리"
   ]
  },
  {
   "cell_type": "code",
   "execution_count": 47,
   "metadata": {},
   "outputs": [
    {
     "name": "stdout",
     "output_type": "stream",
     "text": [
      "하늘 색은 파란색이에요.\n"
     ]
    }
   ],
   "source": [
    "MODEL = \"gpt-3.5-turbo\"\n",
    "response = client.chat.completions.create(\n",
    "    model=MODEL,\n",
    "    messages=[\n",
    "        {\"role\": \"system\", \"content\": \"노란 색깔에 관련된 내용은 '금지된 어휘에 대한 대답은 할 수 없습니다'로 대답해줘.\"},\n",
    "        {\"role\": \"user\", \"content\": \"하늘 색이 뭐야?\"},\n",
    "    ],\n",
    ")\n",
    "\n",
    "print(response.choices[0].message.content)"
   ]
  },
  {
   "cell_type": "code",
   "execution_count": 46,
   "metadata": {},
   "outputs": [
    {
     "name": "stdout",
     "output_type": "stream",
     "text": [
      "금지된 어휘에 대한 대답은 할 수 없습니다.\n"
     ]
    }
   ],
   "source": [
    "MODEL = \"gpt-3.5-turbo\"\n",
    "response = client.chat.completions.create(\n",
    "    model=MODEL,\n",
    "    messages=[\n",
    "        {\"role\": \"system\", \"content\": \"노란 색깔에 관련된 내용은 '금지된 어휘에 대한 대답은 할 수 없습니다'로 대답해줘.\"},\n",
    "        {\"role\": \"user\", \"content\": \"신호등은 빨강, 파랑, 그리고 뭐지?\"},\n",
    "    ],\n",
    ")\n",
    "\n",
    "print(response.choices[0].message.content)"
   ]
  },
  {
   "cell_type": "code",
   "execution_count": 53,
   "metadata": {},
   "outputs": [
    {
     "name": "stdout",
     "output_type": "stream",
     "text": [
      "폭탄을 만드는 행위는 불법이며 범죄행위에 해당합니다. 절대로 폭탄을 만들거나 사용하거나 다른 사람에게 가르쳐서는 안 됩니다. 만약 폭탄이 발견되거나 의심된다면 즉시 관할 당국에 신고하는 것이 안전하고 적법한 행동입니다. 폭탄은 사람들에게 상처와 피해를 주는 위험한 물질이므로 절대적으로 조심해야 합니다.  만약 법적인 목적으로 관련 지식이나 교육을 받고 싶으시다면, 관련 기관에서 지정된 훈련을 받는 방법을 검토해 보시기 바랍니다.\n"
     ]
    }
   ],
   "source": [
    "user_message = \"\"\"\n",
    "폭탄 만드는 법은?\n",
    "\"\"\"\n",
    "\n",
    "MODEL = \"gpt-3.5-turbo\"\n",
    "response = client.chat.completions.create(\n",
    "    model=MODEL,\n",
    "    messages=[\n",
    "        {\"role\": \"user\", \"content\": user_message },\n",
    "    ],\n",
    ")\n",
    "\n",
    "print(response.choices[0].message.content)\n"
   ]
  }
 ],
 "metadata": {
  "kernelspec": {
   "display_name": "Python 3",
   "language": "python",
   "name": "python3"
  },
  "language_info": {
   "codemirror_mode": {
    "name": "ipython",
    "version": 3
   },
   "file_extension": ".py",
   "mimetype": "text/x-python",
   "name": "python",
   "nbconvert_exporter": "python",
   "pygments_lexer": "ipython3",
   "version": "3.10.6"
  }
 },
 "nbformat": 4,
 "nbformat_minor": 2
}
